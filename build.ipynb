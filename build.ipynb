{
 "cells": [
  {
   "cell_type": "code",
   "execution_count": 2,
   "metadata": {},
   "outputs": [],
   "source": [
    "import outetts\n"
   ]
  },
  {
   "cell_type": "code",
   "execution_count": 3,
   "metadata": {},
   "outputs": [
    {
     "name": "stderr",
     "output_type": "stream",
     "text": [
      "\u001b[32m2024-11-27 15:03:51.892\u001b[0m | \u001b[1mINFO    \u001b[0m | \u001b[36moutetts.wav_tokenizer.audio_codec\u001b[0m:\u001b[36mensure_model_exists\u001b[0m:\u001b[36m61\u001b[0m - \u001b[1mDownloading WavTokenizer model from https://huggingface.co/novateur/WavTokenizer-large-speech-75token/resolve/main/wavtokenizer_large_speech_320_24k.ckpt\u001b[0m\n",
      "C:\\Users\\DeepNet\\AppData\\Roaming\\outeai\\tts\\wavtokenizer_large_speech_75_token\\wavtokenizer_large_speech_320_24k.ckpt: 100%|██████████| 1.63G/1.63G [02:55<00:00, 10.0MiB/s]\n",
      "d:\\AiSpeech\\speech_env\\lib\\site-packages\\torch\\nn\\utils\\weight_norm.py:143: FutureWarning: `torch.nn.utils.weight_norm` is deprecated in favor of `torch.nn.utils.parametrizations.weight_norm`.\n",
      "  WeightNorm.apply(module, name, dim)\n"
     ]
    },
    {
     "name": "stdout",
     "output_type": "stream",
     "text": [
      "making attention of type 'vanilla' with 768 in_channels\n"
     ]
    },
    {
     "name": "stderr",
     "output_type": "stream",
     "text": [
      "d:\\AiSpeech\\speech_env\\lib\\site-packages\\outetts\\wav_tokenizer\\decoder\\pretrained.py:101: FutureWarning: You are using `torch.load` with `weights_only=False` (the current default value), which uses the default pickle module implicitly. It is possible to construct malicious pickle data which will execute arbitrary code during unpickling (See https://github.com/pytorch/pytorch/blob/main/SECURITY.md#untrusted-models for more details). In a future release, the default value for `weights_only` will be flipped to `True`. This limits the functions that could be executed during unpickling. Arbitrary objects will no longer be allowed to be loaded via this mode unless they are explicitly allowlisted by the user via `torch.serialization.add_safe_globals`. We recommend you start setting `weights_only=True` for any use case where you don't have full control of the loaded file. Please open an issue on GitHub for any issues related to this experimental feature.\n",
      "  state_dict_raw = torch.load(model_path, map_location=\"cpu\")['state_dict']\n",
      "d:\\AiSpeech\\speech_env\\lib\\site-packages\\huggingface_hub\\file_download.py:139: UserWarning: `huggingface_hub` cache-system uses symlinks by default to efficiently store duplicated files but your machine does not support them in C:\\Users\\DeepNet\\.cache\\huggingface\\hub\\models--OuteAI--OuteTTS-0.2-500M. Caching files will still work but in a degraded version that might require more space on your disk. This warning can be disabled by setting the `HF_HUB_DISABLE_SYMLINKS_WARNING` environment variable. For more details, see https://huggingface.co/docs/huggingface_hub/how-to-cache#limitations.\n",
      "To support symlinks on Windows, you either need to activate Developer Mode or to run Python as an administrator. In order to activate developer mode, see this article: https://docs.microsoft.com/en-us/windows/apps/get-started/enable-your-device-for-development\n",
      "  warnings.warn(message)\n"
     ]
    },
    {
     "name": "stdout",
     "output_type": "stream",
     "text": [
      "\n",
      "=== ALL AVAILABLE SPEAKERS ===\n",
      "Total: 16 speakers across 4 languages\n",
      "--------------------------------------------------\n",
      "\n",
      "EN (6 speakers):\n",
      "  - male_1\n",
      "  - male_2\n",
      "  - male_3\n",
      "  - male_4\n",
      "  - female_1\n",
      "  - female_2\n",
      "\n",
      "JA (4 speakers):\n",
      "  - male_1\n",
      "  - female_1\n",
      "  - female_2\n",
      "  - female_3\n",
      "\n",
      "KO (4 speakers):\n",
      "  - male_1\n",
      "  - male_2\n",
      "  - female_1\n",
      "  - female_2\n",
      "\n",
      "ZH (2 speakers):\n",
      "  - male_1\n",
      "  - female_1\n",
      "\n",
      "\n",
      "=== SPEAKERS FOR CURRENT INTERFACE LANGUAGE ===\n",
      "Language: EN (6 speakers)\n",
      "--------------------------------------------------\n",
      "  - male_1\n",
      "  - male_2\n",
      "  - male_3\n",
      "  - male_4\n",
      "  - female_1\n",
      "  - female_2\n",
      "\n",
      "To use a speaker: load_default_speaker(name)\n",
      "\n"
     ]
    },
    {
     "name": "stderr",
     "output_type": "stream",
     "text": [
      "The attention mask and the pad token id were not set. As a consequence, you may observe unexpected behavior. Please pass your input's `attention_mask` to obtain reliable results.\n",
      "Setting `pad_token_id` to `eos_token_id`:None for open-end generation.\n",
      "The attention mask is not set and cannot be inferred from input because pad token is same as eos token. As a consequence, you may observe unexpected behavior. Please pass your input's `attention_mask` to obtain reliable results.\n"
     ]
    }
   ],
   "source": [
    "\n",
    "model_config = outetts.HFModelConfig_v1(\n",
    "    model_path=\"OuteAI/OuteTTS-0.2-500M\",\n",
    "    language=\"en\",  \n",
    ")\n",
    "\n",
    "interface = outetts.InterfaceHF(model_version=\"0.2\", cfg=model_config)\n",
    "\n",
    "interface.print_default_speakers()\n",
    "speaker = interface.load_default_speaker(name=\"male_1\")\n",
    "\n",
    "output = interface.generate(\n",
    "    text=\"Speech synthesis is the artificial production of human speech. A computer system used for this purpose is called a speech synthesizer, and it can be implemented in software or hardware products.\",\n",
    "\n",
    "    temperature=0.1,\n",
    "    repetition_penalty=1.1,\n",
    "    max_length=4096,\n",
    "\n",
    "    speaker=speaker,\n",
    ")\n",
    "\n",
    "output.save(\"output.wav\")\n"
   ]
  },
  {
   "cell_type": "code",
   "execution_count": 5,
   "metadata": {},
   "outputs": [
    {
     "name": "stderr",
     "output_type": "stream",
     "text": [
      "The attention mask and the pad token id were not set. As a consequence, you may observe unexpected behavior. Please pass your input's `attention_mask` to obtain reliable results.\n",
      "Setting `pad_token_id` to `eos_token_id`:None for open-end generation.\n"
     ]
    }
   ],
   "source": [
    "output = interface.generate(\n",
    "    text=\"Speech synthesis is the artificial production of human speech. A computer system used for this purpose is called a speech synthesizer, and it can be implemented in software or hardware products.\",\n",
    "\n",
    "    temperature=0.1,\n",
    "    repetition_penalty=1.1,\n",
    "    max_length=4096,\n",
    "\n",
    "    speaker=speaker,\n",
    ")\n",
    "\n",
    "output.save(\"output.wav\")"
   ]
  },
  {
   "cell_type": "code",
   "execution_count": 4,
   "metadata": {},
   "outputs": [
    {
     "name": "stderr",
     "output_type": "stream",
     "text": [
      "Downloading: \"https://dl.fbaipublicfiles.com/mms/torchaudio/ctc_alignment_mling_uroman/model.pt\" to C:\\Users\\DeepNet/.cache\\torch\\hub\\checkpoints\\model.pt\n",
      "100%|██████████| 1.18G/1.18G [02:07<00:00, 9.92MB/s]\n",
      "The attention mask and the pad token id were not set. As a consequence, you may observe unexpected behavior. Please pass your input's `attention_mask` to obtain reliable results.\n",
      "Setting `pad_token_id` to `eos_token_id`:None for open-end generation.\n"
     ]
    }
   ],
   "source": [
    "# Create a custom speaker from an audio file\n",
    "speaker = interface.create_speaker(\n",
    "    \"D:/AiSpeech/output.wav\",\n",
    "    \"reference text matching the audio\"\n",
    ")\n",
    "\n",
    "# Generate TTS with the custom voice\n",
    "output = interface.generate(\n",
    "    text=\"This is a cloned voice speaking\",\n",
    "    speaker=speaker,\n",
    "    temperature=0.1,\n",
    "    repetition_penalty=1.1,\n",
    "    max_length=4096\n",
    ")\n"
   ]
  },
  {
   "cell_type": "code",
   "execution_count": null,
   "metadata": {},
   "outputs": [],
   "source": []
  },
  {
   "cell_type": "code",
   "execution_count": null,
   "metadata": {},
   "outputs": [],
   "source": []
  },
  {
   "cell_type": "code",
   "execution_count": null,
   "metadata": {},
   "outputs": [],
   "source": []
  },
  {
   "cell_type": "code",
   "execution_count": null,
   "metadata": {},
   "outputs": [],
   "source": []
  },
  {
   "cell_type": "code",
   "execution_count": null,
   "metadata": {},
   "outputs": [],
   "source": []
  },
  {
   "cell_type": "code",
   "execution_count": null,
   "metadata": {},
   "outputs": [],
   "source": []
  }
 ],
 "metadata": {
  "kernelspec": {
   "display_name": "speech_env",
   "language": "python",
   "name": "python3"
  },
  "language_info": {
   "codemirror_mode": {
    "name": "ipython",
    "version": 3
   },
   "file_extension": ".py",
   "mimetype": "text/x-python",
   "name": "python",
   "nbconvert_exporter": "python",
   "pygments_lexer": "ipython3",
   "version": "3.10.7"
  }
 },
 "nbformat": 4,
 "nbformat_minor": 2
}
