{
 "cells": [
  {
   "cell_type": "code",
   "execution_count": null,
   "metadata": {},
   "outputs": [],
   "source": [
    "import outetts\n",
    "\n",
    "model_config = outetts.HFModelConfig_v1(\n",
    "    model_path=\"OuteAI/OuteTTS-0.2-500M\",\n",
    "    language=\"en\",  \n",
    ")\n",
    "\n",
    "interface = outetts.InterfaceHF(model_version=\"0.2\", cfg=model_config)\n",
    "\n",
    "interface.print_default_speakers()\n",
    "speaker = interface.load_default_speaker(name=\"male_1\")\n",
    "\n",
    "output = interface.generate(\n",
    "    text=\"Speech synthesis is the artificial production of human speech. A computer system used for this purpose is called a speech synthesizer, and it can be implemented in software or hardware products.\",\n",
    "\n",
    "    temperature=0.1,\n",
    "    repetition_penalty=1.1,\n",
    "    max_length=4096,\n",
    "\n",
    "    speaker=speaker,\n",
    ")\n",
    "\n",
    "output.save(\"output.wav\")\n"
   ]
  },
  {
   "cell_type": "code",
   "execution_count": null,
   "metadata": {},
   "outputs": [],
   "source": []
  },
  {
   "cell_type": "code",
   "execution_count": null,
   "metadata": {},
   "outputs": [],
   "source": []
  },
  {
   "cell_type": "code",
   "execution_count": null,
   "metadata": {},
   "outputs": [],
   "source": []
  },
  {
   "cell_type": "code",
   "execution_count": null,
   "metadata": {},
   "outputs": [],
   "source": []
  },
  {
   "cell_type": "code",
   "execution_count": null,
   "metadata": {},
   "outputs": [],
   "source": []
  },
  {
   "cell_type": "code",
   "execution_count": null,
   "metadata": {},
   "outputs": [],
   "source": []
  },
  {
   "cell_type": "code",
   "execution_count": null,
   "metadata": {},
   "outputs": [],
   "source": []
  }
 ],
 "metadata": {
  "kernelspec": {
   "display_name": "speech_env",
   "language": "python",
   "name": "python3"
  },
  "language_info": {
   "name": "python",
   "version": "3.10.7"
  }
 },
 "nbformat": 4,
 "nbformat_minor": 2
}
